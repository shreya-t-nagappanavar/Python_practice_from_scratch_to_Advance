{
  "nbformat": 4,
  "nbformat_minor": 0,
  "metadata": {
    "colab": {
      "provenance": [],
      "authorship_tag": "ABX9TyPFTUctKO34uu6Av6ar/P0T",
      "include_colab_link": true
    },
    "kernelspec": {
      "name": "python3",
      "display_name": "Python 3"
    },
    "language_info": {
      "name": "python"
    }
  },
  "cells": [
    {
      "cell_type": "markdown",
      "metadata": {
        "id": "view-in-github",
        "colab_type": "text"
      },
      "source": [
        "<a href=\"https://colab.research.google.com/github/shreya-t-nagappanavar/Python_practice_from_scratch_to_Advance/blob/main/5_Conditional_Statements(if%2Celif%2Celse).ipynb\" target=\"_parent\"><img src=\"https://colab.research.google.com/assets/colab-badge.svg\" alt=\"Open In Colab\"/></a>"
      ]
    },
    {
      "cell_type": "markdown",
      "source": [
        "# Meaning"
      ],
      "metadata": {
        "id": "bjwjdd2a-bui"
      }
    },
    {
      "cell_type": "markdown",
      "source": [
        "# prompt: meaning for If, else and elif in table\n",
        "\n",
        "| Keyword | Meaning                                                      |\n",
        "|---------|--------------------------------------------------------------|\n",
        "| if      | Executes a block of code if a specified condition is true.   |\n",
        "| else    | Executes a block of code if the preceding if condition is false.|\n",
        "| elif    | Short for \"else if\".  Executes a block of code if the preceding if or elif conditions are false, and the current condition is true. |"
      ],
      "metadata": {
        "id": "VZrxLhrv-gXi"
      }
    },
    {
      "cell_type": "code",
      "source": [
        "x = int(input(\"Enter your marks: \"))\n",
        "\n",
        "pass_marks = 35\n",
        "max_marks = 100\n",
        "received_marks = x\n",
        "\n",
        "if(x >= 35):\n",
        "  print(\"Passed\")\n",
        "else:\n",
        "  print(\"Fail\")"
      ],
      "metadata": {
        "colab": {
          "base_uri": "https://localhost:8080/"
        },
        "id": "zMwmr5MJ-OS7",
        "outputId": "f5471728-b33e-4bae-a569-4319c8ed4588"
      },
      "execution_count": 5,
      "outputs": [
        {
          "output_type": "stream",
          "name": "stdout",
          "text": [
            "Enter your marks: 22\n",
            "Fail\n"
          ]
        }
      ]
    },
    {
      "cell_type": "code",
      "source": [
        "x = int(input(\"Enter your marks: \"))\n",
        "\n",
        "pass_marks = 35\n",
        "max_marks = 100\n",
        "received_marks = x\n",
        "\n",
        "if(x > 35):\n",
        "  print(\"Passed\")\n",
        "elif(x == 35):\n",
        "  print(\"Just passed\")\n",
        "else:\n",
        "  print(\"Fail\")"
      ],
      "metadata": {
        "colab": {
          "base_uri": "https://localhost:8080/"
        },
        "id": "Ee8d0kp7-_xf",
        "outputId": "463cbd60-cf8c-44f6-8bd6-53f8dd55246a"
      },
      "execution_count": 6,
      "outputs": [
        {
          "output_type": "stream",
          "name": "stdout",
          "text": [
            "Enter your marks: 35\n",
            "Just passed\n"
          ]
        }
      ]
    },
    {
      "cell_type": "code",
      "source": [
        "x = \"Shreya\" # not same because of S and s (casesensitive)\n",
        "y = \"shreya\"\n",
        "\n",
        "if x == y:\n",
        "  print(\"Same\")\n",
        "else:\n",
        "  print(\"Not same\")"
      ],
      "metadata": {
        "colab": {
          "base_uri": "https://localhost:8080/"
        },
        "id": "hNNo81HGAaCa",
        "outputId": "0f879496-5774-404d-ab71-03c23c3fe731"
      },
      "execution_count": 8,
      "outputs": [
        {
          "output_type": "stream",
          "name": "stdout",
          "text": [
            "Not same\n"
          ]
        }
      ]
    },
    {
      "cell_type": "code",
      "source": [
        "x = \"Shreya\"\n",
        "y = \"Shreya\"\n",
        "\n",
        "if x == y:\n",
        "  print(\"Same\")\n",
        "else:\n",
        "  print(\"Not same\")"
      ],
      "metadata": {
        "colab": {
          "base_uri": "https://localhost:8080/"
        },
        "id": "OXYCCbh4BLnZ",
        "outputId": "a393f752-2902-47f8-eb1a-b9a364d8ae30"
      },
      "execution_count": 9,
      "outputs": [
        {
          "output_type": "stream",
          "name": "stdout",
          "text": [
            "Same\n"
          ]
        }
      ]
    },
    {
      "cell_type": "code",
      "source": [
        "x = int(input(\"Enter your marks: \"))\n",
        "\n",
        "pass_marks = 35\n",
        "max_marks = 100\n",
        "received_marks = x\n",
        "\n",
        "if(x > 35):\n",
        "  print(\"Passed\")\n",
        "elif(x == 35):\n",
        "  pass                       #Do nothing #we can also use ... instared of pass\n",
        "else:\n",
        "  print(\"Fail\")"
      ],
      "metadata": {
        "colab": {
          "base_uri": "https://localhost:8080/"
        },
        "id": "wCWSBLrHCsg-",
        "outputId": "55dcfe5f-a884-4576-e4ac-28f1ea92f59e"
      },
      "execution_count": 11,
      "outputs": [
        {
          "name": "stdout",
          "output_type": "stream",
          "text": [
            "Enter your marks: 35\n"
          ]
        }
      ]
    }
  ]
}