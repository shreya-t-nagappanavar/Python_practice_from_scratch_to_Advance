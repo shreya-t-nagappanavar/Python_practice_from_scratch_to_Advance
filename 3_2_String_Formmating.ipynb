{
  "nbformat": 4,
  "nbformat_minor": 0,
  "metadata": {
    "colab": {
      "provenance": [],
      "authorship_tag": "ABX9TyPfGNM4WZcfeiPzeImHOJUn",
      "include_colab_link": true
    },
    "kernelspec": {
      "name": "python3",
      "display_name": "Python 3"
    },
    "language_info": {
      "name": "python"
    }
  },
  "cells": [
    {
      "cell_type": "markdown",
      "metadata": {
        "id": "view-in-github",
        "colab_type": "text"
      },
      "source": [
        "<a href=\"https://colab.research.google.com/github/shreya-t-nagappanavar/Python_practice_from_scratch_to_Advance/blob/main/3_2_String_Formmating.ipynb\" target=\"_parent\"><img src=\"https://colab.research.google.com/assets/colab-badge.svg\" alt=\"Open In Colab\"/></a>"
      ]
    },
    {
      "cell_type": "code",
      "execution_count": 1,
      "metadata": {
        "id": "c2kGmWkzgd8b"
      },
      "outputs": [],
      "source": [
        "job_role = \"Data Analyst\"\n"
      ]
    },
    {
      "cell_type": "code",
      "source": [
        "\"Role: {}\".format(\"Data Analyst\") #{} used to display formate"
      ],
      "metadata": {
        "colab": {
          "base_uri": "https://localhost:8080/",
          "height": 37
        },
        "id": "cPKXjwnVlUlE",
        "outputId": "f63139ed-5366-4799-f58c-bf4df961b82e"
      },
      "execution_count": 3,
      "outputs": [
        {
          "output_type": "execute_result",
          "data": {
            "text/plain": [
              "'Role: Data Analyst'"
            ],
            "application/vnd.google.colaboratory.intrinsic+json": {
              "type": "string"
            }
          },
          "metadata": {},
          "execution_count": 3
        }
      ]
    },
    {
      "cell_type": "code",
      "source": [
        "role = \"Data Analyst\"\n",
        "skill = \"Python\""
      ],
      "metadata": {
        "id": "v6HDIX2XlntD"
      },
      "execution_count": 4,
      "outputs": []
    },
    {
      "cell_type": "code",
      "source": [
        "\"Role :{}; Skills required: {}\".format(role,skill)"
      ],
      "metadata": {
        "colab": {
          "base_uri": "https://localhost:8080/",
          "height": 37
        },
        "id": "gGX8sRNqmY-W",
        "outputId": "e2fcf2bb-7b40-41f0-e847-96bae0b3926f"
      },
      "execution_count": 6,
      "outputs": [
        {
          "output_type": "execute_result",
          "data": {
            "text/plain": [
              "'Role :Data Analyst; Skills required: Python'"
            ],
            "application/vnd.google.colaboratory.intrinsic+json": {
              "type": "string"
            }
          },
          "metadata": {},
          "execution_count": 6
        }
      ]
    },
    {
      "cell_type": "markdown",
      "source": [
        "**f-strings**"
      ],
      "metadata": {
        "id": "TfjIcZtknHgM"
      }
    },
    {
      "cell_type": "code",
      "source": [
        "f\"Role: {role}; Required Skill: {skill}\""
      ],
      "metadata": {
        "colab": {
          "base_uri": "https://localhost:8080/",
          "height": 37
        },
        "id": "tE0Bwg34mu8Y",
        "outputId": "dbd3e834-b6f9-4366-d9a5-0928a526b465"
      },
      "execution_count": 7,
      "outputs": [
        {
          "output_type": "execute_result",
          "data": {
            "text/plain": [
              "'Role: Data Analyst; Required Skill: Python'"
            ],
            "application/vnd.google.colaboratory.intrinsic+json": {
              "type": "string"
            }
          },
          "metadata": {},
          "execution_count": 7
        }
      ]
    },
    {
      "cell_type": "markdown",
      "source": [
        "**%-formmating**"
      ],
      "metadata": {
        "id": "jjXxXFG9uibn"
      }
    },
    {
      "cell_type": "code",
      "source": [
        "\"Role %s\" % (role)"
      ],
      "metadata": {
        "colab": {
          "base_uri": "https://localhost:8080/",
          "height": 37
        },
        "id": "yeQzWgD6ulOO",
        "outputId": "c6bd2c77-57a0-4a99-a0f5-f785b2927fbd"
      },
      "execution_count": 8,
      "outputs": [
        {
          "output_type": "execute_result",
          "data": {
            "text/plain": [
              "'Role Data Analyst'"
            ],
            "application/vnd.google.colaboratory.intrinsic+json": {
              "type": "string"
            }
          },
          "metadata": {},
          "execution_count": 8
        }
      ]
    },
    {
      "cell_type": "code",
      "source": [
        "\"Role: %s Skills required: %s\" % (role,skill)"
      ],
      "metadata": {
        "colab": {
          "base_uri": "https://localhost:8080/",
          "height": 37
        },
        "id": "zazLkYT_u2Py",
        "outputId": "04622424-ab1b-4568-9c19-bc1265caad34"
      },
      "execution_count": 9,
      "outputs": [
        {
          "output_type": "execute_result",
          "data": {
            "text/plain": [
              "'Role: Data Analyst Skills required: Python'"
            ],
            "application/vnd.google.colaboratory.intrinsic+json": {
              "type": "string"
            }
          },
          "metadata": {},
          "execution_count": 9
        }
      ]
    },
    {
      "cell_type": "markdown",
      "source": [
        "**Join() Method**"
      ],
      "metadata": {
        "id": "yA6Kz1jkvaEG"
      }
    },
    {
      "cell_type": "code",
      "source": [
        "year_of_exp = \"012124134\""
      ],
      "metadata": {
        "id": "ZXtYhsYsvDdY"
      },
      "execution_count": 13,
      "outputs": []
    },
    {
      "cell_type": "code",
      "source": [
        "\", \".join(year_of_exp)"
      ],
      "metadata": {
        "colab": {
          "base_uri": "https://localhost:8080/",
          "height": 37
        },
        "id": "H7Y0M8YavjgL",
        "outputId": "fd5de27a-7e1e-42ed-ca53-dc5e2e325c71"
      },
      "execution_count": 15,
      "outputs": [
        {
          "output_type": "execute_result",
          "data": {
            "text/plain": [
              "'0, 1, 2, 1, 2, 4, 1, 3, 4'"
            ],
            "application/vnd.google.colaboratory.intrinsic+json": {
              "type": "string"
            }
          },
          "metadata": {},
          "execution_count": 15
        }
      ]
    },
    {
      "cell_type": "code",
      "source": [],
      "metadata": {
        "id": "tUFAFe46xOsm"
      },
      "execution_count": null,
      "outputs": []
    }
  ]
}