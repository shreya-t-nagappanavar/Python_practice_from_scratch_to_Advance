{
  "nbformat": 4,
  "nbformat_minor": 0,
  "metadata": {
    "colab": {
      "provenance": [],
      "authorship_tag": "ABX9TyMgnFxz5di2CVSutt6KOjyy",
      "include_colab_link": true
    },
    "kernelspec": {
      "name": "python3",
      "display_name": "Python 3"
    },
    "language_info": {
      "name": "python"
    }
  },
  "cells": [
    {
      "cell_type": "markdown",
      "metadata": {
        "id": "view-in-github",
        "colab_type": "text"
      },
      "source": [
        "<a href=\"https://colab.research.google.com/github/shreya-t-nagappanavar/Python_practice_from_scratch_to_Advance/blob/main/1_Introduction.ipynb\" target=\"_parent\"><img src=\"https://colab.research.google.com/assets/colab-badge.svg\" alt=\"Open In Colab\"/></a>"
      ]
    },
    {
      "cell_type": "code",
      "execution_count": 1,
      "metadata": {
        "colab": {
          "base_uri": "https://localhost:8080/"
        },
        "id": "Yqia1ySXiOA-",
        "outputId": "e7f6a4ef-5d86-4148-f3de-0389bbd1641e"
      },
      "outputs": [
        {
          "output_type": "stream",
          "name": "stdout",
          "text": [
            "sample_data\n"
          ]
        }
      ],
      "source": [
        "!ls"
      ]
    },
    {
      "cell_type": "code",
      "source": [
        "%timeit x = 100**100"
      ],
      "metadata": {
        "colab": {
          "base_uri": "https://localhost:8080/"
        },
        "id": "i6Z6YVYqkMaU",
        "outputId": "5737b82b-2328-48cb-f155-38656537149e"
      },
      "execution_count": 2,
      "outputs": [
        {
          "output_type": "stream",
          "name": "stdout",
          "text": [
            "535 ns ± 103 ns per loop (mean ± std. dev. of 7 runs, 1000000 loops each)\n"
          ]
        }
      ]
    },
    {
      "cell_type": "code",
      "source": [
        "x = 10\n",
        "print(x)"
      ],
      "metadata": {
        "colab": {
          "base_uri": "https://localhost:8080/"
        },
        "id": "i5vqCAazkura",
        "outputId": "1234bf7f-8036-46c9-92df-1fb0e6d37bf7"
      },
      "execution_count": 7,
      "outputs": [
        {
          "output_type": "stream",
          "name": "stdout",
          "text": [
            "10\n"
          ]
        }
      ]
    },
    {
      "cell_type": "markdown",
      "source": [
        "# 1.1 Variables:"
      ],
      "metadata": {
        "id": "qtipl1bnmcXS"
      }
    },
    {
      "cell_type": "code",
      "source": [
        "salary = 10000"
      ],
      "metadata": {
        "id": "zFo-n7MZmsGD"
      },
      "execution_count": 8,
      "outputs": []
    },
    {
      "cell_type": "code",
      "source": [
        "salary"
      ],
      "metadata": {
        "colab": {
          "base_uri": "https://localhost:8080/"
        },
        "id": "16pJqenQnGmX",
        "outputId": "9e0d11ed-0b3e-4d7b-9687-ebcd705886f6"
      },
      "execution_count": 9,
      "outputs": [
        {
          "output_type": "execute_result",
          "data": {
            "text/plain": [
              "10000"
            ]
          },
          "metadata": {},
          "execution_count": 9
        }
      ]
    },
    {
      "cell_type": "code",
      "source": [
        "base_salary = 10000"
      ],
      "metadata": {
        "id": "IceDd9wanKDs"
      },
      "execution_count": 10,
      "outputs": []
    },
    {
      "cell_type": "markdown",
      "source": [
        "**Calculation of total salary**"
      ],
      "metadata": {
        "id": "xswVZVyDoEVT"
      }
    },
    {
      "cell_type": "code",
      "source": [
        "bonus_salary_rate = .20"
      ],
      "metadata": {
        "id": "kscJf7jHnfgG"
      },
      "execution_count": 12,
      "outputs": []
    },
    {
      "cell_type": "code",
      "source": [
        "Total_salary = (base_salary) * (1 + bonus_salary_rate)"
      ],
      "metadata": {
        "id": "bDgPrMvLnknA"
      },
      "execution_count": 13,
      "outputs": []
    },
    {
      "cell_type": "code",
      "source": [
        "print(Total_salary)"
      ],
      "metadata": {
        "colab": {
          "base_uri": "https://localhost:8080/"
        },
        "id": "2Dzkln7-n5-3",
        "outputId": "9d22c83d-17a9-4a75-ac70-bd825d12a965"
      },
      "execution_count": 14,
      "outputs": [
        {
          "output_type": "stream",
          "name": "stdout",
          "text": [
            "12000.0\n"
          ]
        }
      ]
    },
    {
      "cell_type": "markdown",
      "source": [
        "**Strings**"
      ],
      "metadata": {
        "id": "YFx5Ycw7oXy6"
      }
    },
    {
      "cell_type": "code",
      "source": [
        "Company_name = 'TATA'\n",
        "Emp_name = 'Shreya T Nagappanavar'"
      ],
      "metadata": {
        "id": "-NcfX913oWjL"
      },
      "execution_count": 16,
      "outputs": []
    },
    {
      "cell_type": "code",
      "source": [
        "Company_name"
      ],
      "metadata": {
        "colab": {
          "base_uri": "https://localhost:8080/",
          "height": 37
        },
        "id": "K9KLdrago7Lv",
        "outputId": "da8cae94-ca4a-46d0-8ae1-17c6bef83f93"
      },
      "execution_count": 18,
      "outputs": [
        {
          "output_type": "execute_result",
          "data": {
            "text/plain": [
              "'TATA'"
            ],
            "application/vnd.google.colaboratory.intrinsic+json": {
              "type": "string"
            }
          },
          "metadata": {},
          "execution_count": 18
        }
      ]
    },
    {
      "cell_type": "code",
      "source": [
        "Emp_name"
      ],
      "metadata": {
        "colab": {
          "base_uri": "https://localhost:8080/",
          "height": 37
        },
        "id": "9vnRII1upJBU",
        "outputId": "c33fea6b-809f-4756-aa6a-0c6551e423d6"
      },
      "execution_count": 19,
      "outputs": [
        {
          "output_type": "execute_result",
          "data": {
            "text/plain": [
              "'Shreya T Nagappanavar'"
            ],
            "application/vnd.google.colaboratory.intrinsic+json": {
              "type": "string"
            }
          },
          "metadata": {},
          "execution_count": 19
        }
      ]
    },
    {
      "cell_type": "code",
      "source": [
        "Emp_dept = True\n",
        "print(Emp_dept)"
      ],
      "metadata": {
        "colab": {
          "base_uri": "https://localhost:8080/"
        },
        "id": "Mq8uNPaWpPLz",
        "outputId": "ccb07c68-880e-4041-da6f-f81d3f2e2a2f"
      },
      "execution_count": 22,
      "outputs": [
        {
          "output_type": "stream",
          "name": "stdout",
          "text": [
            "True\n"
          ]
        }
      ]
    },
    {
      "cell_type": "markdown",
      "source": [
        "**Example demo for String display**"
      ],
      "metadata": {
        "id": "v_yVZb5bp6py"
      }
    },
    {
      "cell_type": "code",
      "source": [
        "Emp_name = \"Shreya\"\n",
        "Emp_Id = 25\n",
        "Emp_dept = True\n",
        "Emp_DOJ = \"Feb 2023\""
      ],
      "metadata": {
        "id": "Z-j0Wrjup5Di"
      },
      "execution_count": 35,
      "outputs": []
    },
    {
      "cell_type": "code",
      "source": [
        "print(\"****** Employee Deatails*******\")\n",
        "print(\"-------------------------------\")\n",
        "print(\"Employee name = \" , Emp_name)\n",
        "print(\"Employee Id = \" , Emp_Id)\n",
        "print(\"Is Employee assigined to department = \" , Emp_dept)\n",
        "print(\"EMployee data of joining = \" , Emp_DOJ)"
      ],
      "metadata": {
        "colab": {
          "base_uri": "https://localhost:8080/"
        },
        "id": "RRb6T4aMqKAz",
        "outputId": "83ceb14a-3b84-49c5-e8d1-9f66ada91c76"
      },
      "execution_count": 36,
      "outputs": [
        {
          "output_type": "stream",
          "name": "stdout",
          "text": [
            "****** Employee Deatails*******\n",
            "-------------------------------\n",
            "Employee name =  Shreya\n",
            "Employee Id =  25\n",
            "Is Employee assigined to department =  True\n",
            "EMployee data of joining =  Feb 2023\n"
          ]
        }
      ]
    },
    {
      "cell_type": "markdown",
      "source": [
        "**Basics**"
      ],
      "metadata": {
        "id": "BChaoXCqsu3b"
      }
    },
    {
      "cell_type": "code",
      "source": [
        "2 + 2"
      ],
      "metadata": {
        "colab": {
          "base_uri": "https://localhost:8080/"
        },
        "id": "lKb_gcVjsxzC",
        "outputId": "4dfb49a7-dcd9-4360-e82d-bd95f84533e1"
      },
      "execution_count": 37,
      "outputs": [
        {
          "output_type": "execute_result",
          "data": {
            "text/plain": [
              "4"
            ]
          },
          "metadata": {},
          "execution_count": 37
        }
      ]
    },
    {
      "cell_type": "code",
      "source": [
        "2 ** 3"
      ],
      "metadata": {
        "colab": {
          "base_uri": "https://localhost:8080/"
        },
        "id": "JlfwkJD0s6Uz",
        "outputId": "28a4936c-f1d3-4215-f508-54ef97dcde31"
      },
      "execution_count": 39,
      "outputs": [
        {
          "output_type": "execute_result",
          "data": {
            "text/plain": [
              "8"
            ]
          },
          "metadata": {},
          "execution_count": 39
        }
      ]
    },
    {
      "cell_type": "code",
      "source": [
        "6 * 6"
      ],
      "metadata": {
        "colab": {
          "base_uri": "https://localhost:8080/"
        },
        "id": "x-JOqJLns9uS",
        "outputId": "c271f1c5-49d4-4919-8fe5-4e85154cac79"
      },
      "execution_count": 40,
      "outputs": [
        {
          "output_type": "execute_result",
          "data": {
            "text/plain": [
              "36"
            ]
          },
          "metadata": {},
          "execution_count": 40
        }
      ]
    },
    {
      "cell_type": "code",
      "source": [
        "8 + 2\n",
        "5 + 3 # prints last command always"
      ],
      "metadata": {
        "colab": {
          "base_uri": "https://localhost:8080/"
        },
        "id": "EPGR26U6tC5S",
        "outputId": "7dce3faa-7963-4280-8cbd-d8c9b9b4211c"
      },
      "execution_count": 41,
      "outputs": [
        {
          "output_type": "execute_result",
          "data": {
            "text/plain": [
              "8"
            ]
          },
          "metadata": {},
          "execution_count": 41
        }
      ]
    },
    {
      "cell_type": "code",
      "source": [
        "print(8 + 2) # To print above command use \"print\"\n",
        "5 + 3"
      ],
      "metadata": {
        "colab": {
          "base_uri": "https://localhost:8080/"
        },
        "id": "Imknl2C_tJXa",
        "outputId": "681e3449-5dbb-49a9-a848-4b037a0e97d7"
      },
      "execution_count": 42,
      "outputs": [
        {
          "output_type": "stream",
          "name": "stdout",
          "text": [
            "10\n"
          ]
        },
        {
          "output_type": "execute_result",
          "data": {
            "text/plain": [
              "8"
            ]
          },
          "metadata": {},
          "execution_count": 42
        }
      ]
    }
  ]
}